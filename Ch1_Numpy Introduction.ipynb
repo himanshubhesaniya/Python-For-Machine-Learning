{
 "cells": [
  {
   "cell_type": "markdown",
   "metadata": {},
   "source": [
    "# Numpy Introduction"
   ]
  },
  {
   "cell_type": "markdown",
   "metadata": {},
   "source": [
    "#### Import Numpy"
   ]
  },
  {
   "cell_type": "code",
   "execution_count": 1,
   "metadata": {},
   "outputs": [],
   "source": [
    "import numpy as np"
   ]
  },
  {
   "cell_type": "markdown",
   "metadata": {},
   "source": [
    "#### Zeroes - Create matrix with zero values"
   ]
  },
  {
   "cell_type": "code",
   "execution_count": 30,
   "metadata": {},
   "outputs": [
    {
     "name": "stdout",
     "output_type": "stream",
     "text": [
      "[[0. 0. 0. 0.]\n",
      " [0. 0. 0. 0.]\n",
      " [0. 0. 0. 0.]]\n"
     ]
    }
   ],
   "source": [
    "zeroes = np.zeros((3,4)) # (Rows,Cols,Depth)\n",
    "print(zeroes)"
   ]
  },
  {
   "cell_type": "markdown",
   "metadata": {},
   "source": [
    "#### Ones - Initialized with one values"
   ]
  },
  {
   "cell_type": "code",
   "execution_count": 31,
   "metadata": {},
   "outputs": [
    {
     "name": "stdout",
     "output_type": "stream",
     "text": [
      "[[1. 1.]\n",
      " [1. 1.]]\n"
     ]
    }
   ],
   "source": [
    "ones = np.ones((2,2)) # (Rows,Cols,Depth)\n",
    "print(ones)"
   ]
  },
  {
   "cell_type": "markdown",
   "metadata": {},
   "source": [
    "#### Empty - Uninitialized array ( contains garbage values )"
   ]
  },
  {
   "cell_type": "code",
   "execution_count": 24,
   "metadata": {},
   "outputs": [
    {
     "name": "stdout",
     "output_type": "stream",
     "text": [
      "[[[0.00000000e+000 0.00000000e+000]\n",
      "  [0.00000000e+000 0.00000000e+000]]\n",
      "\n",
      " [[0.00000000e+000 4.36754031e-321]\n",
      "  [2.22521646e-306 1.86920871e-306]]]\n"
     ]
    }
   ],
   "source": [
    "unknown = np.empty((2,2,2))\n",
    "print(unknown)"
   ]
  },
  {
   "cell_type": "markdown",
   "metadata": {},
   "source": [
    "#### Full - Initialized with values passed"
   ]
  },
  {
   "cell_type": "code",
   "execution_count": 23,
   "metadata": {},
   "outputs": [
    {
     "name": "stdout",
     "output_type": "stream",
     "text": [
      "[[12 12]\n",
      " [14 14]]\n"
     ]
    }
   ],
   "source": [
    "data = np.array([[12,12],[14,14]])\n",
    "print(data)"
   ]
  },
  {
   "cell_type": "markdown",
   "metadata": {},
   "source": [
    "### Random - different methods to initialize random values"
   ]
  },
  {
   "cell_type": "markdown",
   "metadata": {},
   "source": [
    "#### 1) np.random.rand method"
   ]
  },
  {
   "cell_type": "code",
   "execution_count": 22,
   "metadata": {},
   "outputs": [
    {
     "name": "stdout",
     "output_type": "stream",
     "text": [
      "[[[0.30863867 0.95013486 0.80398575 0.92814576]\n",
      "  [0.19307386 0.36823655 0.18746652 0.06552071]]\n",
      "\n",
      " [[0.24061622 0.74392426 0.69726849 0.40545642]\n",
      "  [0.09640542 0.43570033 0.29784874 0.51377982]]\n",
      "\n",
      " [[0.1406678  0.7485966  0.71369352 0.15869283]\n",
      "  [0.01999117 0.75272087 0.55773933 0.92035845]]]\n"
     ]
    }
   ],
   "source": [
    "random1 = np.random.rand(3,2,4)\n",
    "print(random1)"
   ]
  },
  {
   "cell_type": "markdown",
   "metadata": {},
   "source": [
    "#### 2) np.random.randint method"
   ]
  },
  {
   "cell_type": "code",
   "execution_count": 21,
   "metadata": {},
   "outputs": [
    {
     "name": "stdout",
     "output_type": "stream",
     "text": [
      "[[7 0 5 2]\n",
      " [4 2 6 7]\n",
      " [2 6 1 3]\n",
      " [7 0 3 5]]\n"
     ]
    }
   ],
   "source": [
    "random2 = np.random.randint(0,10,size=(4,4)) #where it takes values from 0 to 10\n",
    "print(random2)"
   ]
  },
  {
   "cell_type": "markdown",
   "metadata": {},
   "source": [
    "#### 3) Lin_Space - generate equally spaced numbers between start & stop values"
   ]
  },
  {
   "cell_type": "code",
   "execution_count": 20,
   "metadata": {},
   "outputs": [
    {
     "name": "stdout",
     "output_type": "stream",
     "text": [
      "[ 1.          1.47368421  1.94736842  2.42105263  2.89473684  3.36842105\n",
      "  3.84210526  4.31578947  4.78947368  5.26315789  5.73684211  6.21052632\n",
      "  6.68421053  7.15789474  7.63157895  8.10526316  8.57894737  9.05263158\n",
      "  9.52631579 10.        ]\n"
     ]
    }
   ],
   "source": [
    "lin = np.linspace(1,10,20)\n",
    "print(lin)"
   ]
  },
  {
   "cell_type": "markdown",
   "metadata": {},
   "source": [
    "### Accessing data"
   ]
  },
  {
   "cell_type": "markdown",
   "metadata": {},
   "source": [
    "#### 1) Access all rows and all columns "
   ]
  },
  {
   "cell_type": "code",
   "execution_count": 19,
   "metadata": {},
   "outputs": [
    {
     "data": {
      "text/plain": [
       "array([[1, 7, 8, 0, 4],\n",
       "       [3, 3, 4, 0, 2],\n",
       "       [9, 1, 3, 0, 0],\n",
       "       [7, 3, 7, 3, 2],\n",
       "       [2, 6, 7, 8, 4]])"
      ]
     },
     "execution_count": 19,
     "metadata": {},
     "output_type": "execute_result"
    }
   ],
   "source": [
    "a = np.random.randint(0,10,size=(5,5))\n",
    "a[:,:] #<--- All rows & Columns"
   ]
  },
  {
   "cell_type": "markdown",
   "metadata": {},
   "source": [
    "#### 2) First row but all columns "
   ]
  },
  {
   "cell_type": "code",
   "execution_count": 27,
   "metadata": {},
   "outputs": [
    {
     "data": {
      "text/plain": [
       "array([1, 7, 8, 0, 4])"
      ]
     },
     "execution_count": 27,
     "metadata": {},
     "output_type": "execute_result"
    }
   ],
   "source": [
    "a[0,:]"
   ]
  },
  {
   "cell_type": "markdown",
   "metadata": {},
   "source": [
    "#### 2) Perticular row but all columns "
   ]
  },
  {
   "cell_type": "code",
   "execution_count": 28,
   "metadata": {},
   "outputs": [
    {
     "data": {
      "text/plain": [
       "array([[1, 7, 8, 0, 4],\n",
       "       [2, 6, 7, 8, 4],\n",
       "       [9, 1, 3, 0, 0]])"
      ]
     },
     "execution_count": 28,
     "metadata": {},
     "output_type": "execute_result"
    }
   ],
   "source": [
    "a[[0,4,2],:]"
   ]
  },
  {
   "cell_type": "markdown",
   "metadata": {},
   "source": [
    "#### 3) All row but Perticular columns "
   ]
  },
  {
   "cell_type": "code",
   "execution_count": 29,
   "metadata": {},
   "outputs": [
    {
     "data": {
      "text/plain": [
       "array([[7, 8, 0],\n",
       "       [3, 4, 0],\n",
       "       [1, 3, 0],\n",
       "       [3, 7, 3],\n",
       "       [6, 7, 8]])"
      ]
     },
     "execution_count": 29,
     "metadata": {},
     "output_type": "execute_result"
    }
   ],
   "source": [
    "a[:,1:4]"
   ]
  },
  {
   "cell_type": "markdown",
   "metadata": {},
   "source": [
    "### Concatenation"
   ]
  },
  {
   "cell_type": "markdown",
   "metadata": {},
   "source": [
    "* Axis = 0 means Vertical ( v )\n",
    "* Axis = 1 means Horizontal ( > )\n",
    "* Concatenate - join numpy array along provided axis\n",
    "* Hstack - joining numpy array Horizontally\n",
    "* Vstack - joining numpy array Vertically\n",
    "* Hstack (rows, cols) Rows needed same in every array\n",
    "* Vstack (rows, cols) Cols needed same in every array"
   ]
  },
  {
   "cell_type": "markdown",
   "metadata": {},
   "source": [
    "### Spilitting"
   ]
  },
  {
   "cell_type": "markdown",
   "metadata": {},
   "source": [
    "* Splits array into subarrays\n",
    "* Split - Split the arrays as per axis mentioned\n",
    "* Hsplit - This splits the horizontal axis\n",
    "* Vsplit - This splits the vertical axis"
   ]
  },
  {
   "cell_type": "code",
   "execution_count": 56,
   "metadata": {},
   "outputs": [
    {
     "name": "stdout",
     "output_type": "stream",
     "text": [
      "First array aa \n",
      "[[1 8 4]\n",
      " [0 8 3]\n",
      " [9 9 8]]\n",
      "Second array bb \n",
      "[[18 14 14]\n",
      " [15 11 11]\n",
      " [10 13 18]]\n",
      "Horizontal Stacked array Hstack \n",
      "[[ 1  8  4 18 14 14]\n",
      " [ 0  8  3 15 11 11]\n",
      " [ 9  9  8 10 13 18]]\n",
      "Vertical Stacked array Vstack \n",
      "[[ 1  8  4]\n",
      " [ 0  8  3]\n",
      " [ 9  9  8]\n",
      " [18 14 14]\n",
      " [15 11 11]\n",
      " [10 13 18]]\n"
     ]
    }
   ],
   "source": [
    "aa = np.random.randint(0,10,size=(3,3))\n",
    "bb = np.random.randint(10,20,size=(3,3))\n",
    "\n",
    "Hstack = np.hstack([aa,bb])\n",
    "Vstack = np.vstack([aa,bb])\n",
    "\n",
    "print('First array aa ')\n",
    "print(aa)\n",
    "\n",
    "print('Second array bb ')\n",
    "print(bb)\n",
    "\n",
    "print('Horizontal Stacked array Hstack ')\n",
    "print(Hstack)\n",
    "\n",
    "print('Vertical Stacked array Vstack ')\n",
    "print(Vstack)"
   ]
  },
  {
   "cell_type": "markdown",
   "metadata": {},
   "source": [
    "### Shape, Size, ndim"
   ]
  },
  {
   "cell_type": "code",
   "execution_count": 63,
   "metadata": {},
   "outputs": [],
   "source": [
    "d = np.random.randint(0,10,size = (5,5))"
   ]
  },
  {
   "cell_type": "code",
   "execution_count": 64,
   "metadata": {},
   "outputs": [
    {
     "data": {
      "text/plain": [
       "2"
      ]
     },
     "execution_count": 64,
     "metadata": {},
     "output_type": "execute_result"
    }
   ],
   "source": [
    "d.ndim # Dimension of array"
   ]
  },
  {
   "cell_type": "code",
   "execution_count": 65,
   "metadata": {},
   "outputs": [
    {
     "data": {
      "text/plain": [
       "(5, 5)"
      ]
     },
     "execution_count": 65,
     "metadata": {},
     "output_type": "execute_result"
    }
   ],
   "source": [
    "d.shape # Shape of array"
   ]
  },
  {
   "cell_type": "code",
   "execution_count": 66,
   "metadata": {},
   "outputs": [
    {
     "data": {
      "text/plain": [
       "25"
      ]
     },
     "execution_count": 66,
     "metadata": {},
     "output_type": "execute_result"
    }
   ],
   "source": [
    "d.size # Size of array"
   ]
  },
  {
   "cell_type": "markdown",
   "metadata": {},
   "source": [
    "### Reshaping"
   ]
  },
  {
   "cell_type": "markdown",
   "metadata": {},
   "source": [
    "* Learning algorithms expects data in certain shape & dimension\n",
    "* Using reshaping utility we can convert data into desired shape\n",
    "* But, the desired transformation will also be of same size\n",
    "* Adding 1 dimensions will not alter data size"
   ]
  },
  {
   "cell_type": "code",
   "execution_count": 69,
   "metadata": {},
   "outputs": [
    {
     "data": {
      "text/plain": [
       "array([[5, 2, 6, 2, 3, 9, 1, 4],\n",
       "       [6, 4, 3, 8, 4, 3, 5, 9],\n",
       "       [6, 5, 4, 1, 3, 0, 8, 6],\n",
       "       [5, 4, 3, 7, 9, 7, 3, 5]])"
      ]
     },
     "execution_count": 69,
     "metadata": {},
     "output_type": "execute_result"
    }
   ],
   "source": [
    "z = np.random.randint(0,10,size = (4,8))\n",
    "z"
   ]
  },
  {
   "cell_type": "code",
   "execution_count": 70,
   "metadata": {},
   "outputs": [
    {
     "data": {
      "text/plain": [
       "array([[5, 2, 6, 2, 3, 9, 1, 4, 6, 4, 3, 8, 4, 3, 5, 9],\n",
       "       [6, 5, 4, 1, 3, 0, 8, 6, 5, 4, 3, 7, 9, 7, 3, 5]])"
      ]
     },
     "execution_count": 70,
     "metadata": {},
     "output_type": "execute_result"
    }
   ],
   "source": [
    "z = z.reshape((2,16))\n",
    "z"
   ]
  },
  {
   "cell_type": "markdown",
   "metadata": {},
   "source": [
    "### Utility Functions"
   ]
  },
  {
   "cell_type": "markdown",
   "metadata": {},
   "source": [
    "Numpy has a huge list of mathematical functions to make implementing machine learning algorithms very easy A few of them are:"
   ]
  },
  {
   "cell_type": "code",
   "execution_count": 32,
   "metadata": {},
   "outputs": [
    {
     "data": {
      "text/plain": [
       "9"
      ]
     },
     "execution_count": 32,
     "metadata": {},
     "output_type": "execute_result"
    }
   ],
   "source": [
    "#max() <--- return max value of array\n",
    "a.max()"
   ]
  },
  {
   "cell_type": "code",
   "execution_count": 33,
   "metadata": {},
   "outputs": [
    {
     "data": {
      "text/plain": [
       "0"
      ]
     },
     "execution_count": 33,
     "metadata": {},
     "output_type": "execute_result"
    }
   ],
   "source": [
    "#min() <--- return min value of array\n",
    "a.min()"
   ]
  },
  {
   "cell_type": "code",
   "execution_count": 34,
   "metadata": {},
   "outputs": [
    {
     "data": {
      "text/plain": [
       "3.76"
      ]
     },
     "execution_count": 34,
     "metadata": {},
     "output_type": "execute_result"
    }
   ],
   "source": [
    "#mean() <--- return average value of array\n",
    "a.mean()"
   ]
  },
  {
   "cell_type": "code",
   "execution_count": 35,
   "metadata": {},
   "outputs": [
    {
     "data": {
      "text/plain": [
       "2.7896953238660314"
      ]
     },
     "execution_count": 35,
     "metadata": {},
     "output_type": "execute_result"
    }
   ],
   "source": [
    "#std() <--- return Standard Deviation of array\n",
    "a.std()"
   ]
  },
  {
   "cell_type": "code",
   "execution_count": 46,
   "metadata": {},
   "outputs": [
    {
     "name": "stdout",
     "output_type": "stream",
     "text": [
      "a--- [[4 6 8 6 4]\n",
      " [6 3 6 9 4]\n",
      " [5 9 5 3 9]\n",
      " [4 8 2 3 8]\n",
      " [5 6 9 7 3]]\n",
      "b--- [[17 12 12 14 13]\n",
      " [18 12 10 17 17]\n",
      " [10 12 17 12 15]\n",
      " [12 18 16 16 10]\n",
      " [10 17 16 10 14]]\n"
     ]
    },
    {
     "data": {
      "text/plain": [
       "array([[368, 392, 404, 390, 390],\n",
       "       [364, 410, 412, 391, 365],\n",
       "       [423, 435, 427, 421, 449],\n",
       "       [348, 358, 338, 344, 360],\n",
       "       [397, 417, 433, 422, 414]])"
      ]
     },
     "execution_count": 46,
     "metadata": {},
     "output_type": "execute_result"
    }
   ],
   "source": [
    "#dot() <---  return multiplication of two matrix\n",
    "a = np.random.randint(0,10,size=(5,5))\n",
    "b = np.random.randint(10,20,size=(5,5))\n",
    "print('a---',a)\n",
    "print('b---',b)\n",
    "a.dot(b)"
   ]
  },
  {
   "cell_type": "code",
   "execution_count": 47,
   "metadata": {},
   "outputs": [
    {
     "data": {
      "text/plain": [
       "array([[2.        , 2.44948974, 2.82842712, 2.44948974, 2.        ],\n",
       "       [2.44948974, 1.73205081, 2.44948974, 3.        , 2.        ],\n",
       "       [2.23606798, 3.        , 2.23606798, 1.73205081, 3.        ],\n",
       "       [2.        , 2.82842712, 1.41421356, 1.73205081, 2.82842712],\n",
       "       [2.23606798, 2.44948974, 3.        , 2.64575131, 1.73205081]])"
      ]
     },
     "execution_count": 47,
     "metadata": {},
     "output_type": "execute_result"
    }
   ],
   "source": [
    "#sqrt() <--- return square root of the each element of array\n",
    "np.sqrt(a)"
   ]
  },
  {
   "cell_type": "markdown",
   "metadata": {},
   "source": [
    "### Broadcasting"
   ]
  },
  {
   "cell_type": "markdown",
   "metadata": {},
   "source": [
    "* Single row matrix are known as vectors\n",
    "* Broadcasting is a technique using which Numpy does mathematical computation on data of different shapes & dimension\n",
    "* We might need to reshape the data sometimes to enable broadcasting\n",
    "\n",
    "Some example of broadcasting:"
   ]
  },
  {
   "cell_type": "code",
   "execution_count": 71,
   "metadata": {},
   "outputs": [
    {
     "name": "stdout",
     "output_type": "stream",
     "text": [
      "[[3 3]\n",
      " [1 1]]\n",
      "--------------\n",
      "[[6 6]\n",
      " [2 2]]\n"
     ]
    }
   ],
   "source": [
    "y = np.random.randint(1,5,size=(2,2))\n",
    "print(y)\n",
    "print('--------------')\n",
    "y = y*2\n",
    "print(y)"
   ]
  },
  {
   "cell_type": "code",
   "execution_count": 72,
   "metadata": {},
   "outputs": [
    {
     "name": "stdout",
     "output_type": "stream",
     "text": [
      "[[6 6]\n",
      " [2 2]]\n",
      "--------------\n",
      "[[5 5]\n",
      " [2 2]]\n"
     ]
    }
   ],
   "source": [
    "print(y)\n",
    "print('--------------')\n",
    "y[y>5]=5\n",
    "print(y)"
   ]
  },
  {
   "cell_type": "markdown",
   "metadata": {},
   "source": [
    "There are other lots of advance features in numpy array you can learn from numpy official website given below"
   ]
  },
  {
   "cell_type": "markdown",
   "metadata": {},
   "source": [
    "https://numpy.org/doc/stable/user/quickstart.html"
   ]
  }
 ],
 "metadata": {
  "kernelspec": {
   "display_name": "Python 3",
   "language": "python",
   "name": "python3"
  },
  "language_info": {
   "codemirror_mode": {
    "name": "ipython",
    "version": 3
   },
   "file_extension": ".py",
   "mimetype": "text/x-python",
   "name": "python",
   "nbconvert_exporter": "python",
   "pygments_lexer": "ipython3",
   "version": "3.7.3"
  }
 },
 "nbformat": 4,
 "nbformat_minor": 2
}
